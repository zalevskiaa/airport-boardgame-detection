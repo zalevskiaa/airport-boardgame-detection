{
 "cells": [
  {
   "cell_type": "code",
   "execution_count": 1,
   "metadata": {},
   "outputs": [],
   "source": [
    "import cv2\n",
    "import os\n",
    "\n",
    "import numpy as np\n",
    "import matplotlib.pyplot as plt"
   ]
  },
  {
   "cell_type": "code",
   "execution_count": 2,
   "metadata": {},
   "outputs": [],
   "source": [
    "def imshow_numpy(img, figsize=(4, 4)):\n",
    "    plt.figure(figsize=figsize)\n",
    "    plt.axis('off')\n",
    "    plt.imshow(img)\n",
    "    plt.show()\n",
    "\n",
    "\n",
    "def imread(filepath):\n",
    "    return cv2.cvtColor(cv2.imread(filepath), cv2.COLOR_BGR2RGB)\n",
    "\n",
    "\n",
    "def imwrite(filepath, img):\n",
    "    cv2.imwrite(filepath, cv2.cvtColor(img, cv2.COLOR_RGB2BGR))"
   ]
  },
  {
   "cell_type": "code",
   "execution_count": null,
   "metadata": {},
   "outputs": [],
   "source": []
  },
  {
   "cell_type": "code",
   "execution_count": 3,
   "metadata": {},
   "outputs": [],
   "source": [
    "dataset_path = '../data/datasets/junior-cell-segmentation'\n",
    "masks_path = os.path.join(dataset_path, 'labels')"
   ]
  },
  {
   "cell_type": "code",
   "execution_count": null,
   "metadata": {},
   "outputs": [],
   "source": []
  },
  {
   "cell_type": "code",
   "execution_count": null,
   "metadata": {},
   "outputs": [],
   "source": [
    "def mask_to_directions(mask):\n",
    "    h, w, _ = mask.shape\n",
    "\n",
    "    centers = {\n",
    "        'r': (w, h / 2),\n",
    "        'd': (w / 2, h),\n",
    "        'l': (0, h / 2),\n",
    "        'u': (w / 2, 0),\n",
    "    }\n",
    "    scores = {d: 0 for d in centers.keys()}\n",
    "\n",
    "    dist2 = lambda x1, y1, x2, y2: (x1 - x2) ** 2 + (y1 - y2) ** 2\n",
    "\n",
    "    for i in range(h):\n",
    "        for j in range(w):\n",
    "            pix = mask[i, j, 0] / 255\n",
    "            dists = [\n",
    "                (dist2(v[0] / w, v[1] / h, j / w, i / h), k) \n",
    "                for k, v in centers.items()\n",
    "            ]\n",
    "            min_dist, min_center = min(dists)\n",
    "            scores[min_center] += pix / (1 + min_dist)\n",
    "    scores = sorted(scores.items(), key=lambda x: x[1], reverse=True)\n",
    "    print(scores)\n",
    "    \n",
    "    scores = scores[:2]\n",
    "    return [x[0] for x in scores]"
   ]
  },
  {
   "cell_type": "code",
   "execution_count": 47,
   "metadata": {},
   "outputs": [
    {
     "name": "stdout",
     "output_type": "stream",
     "text": [
      "[('u', np.float64(16.75379013485401)), ('d', np.float64(16.73591422548583)), ('r', np.float64(0.0)), ('l', np.float64(0.0))]\n",
      "['u', 'd']\n"
     ]
    },
    {
     "data": {
      "image/png": "[encoded data removed]",
      "text/plain": [
       "<Figure size 400x400 with 1 Axes>"
      ]
     },
     "metadata": {},
     "output_type": "display_data"
    }
   ],
   "source": [
    "filenames = os.listdir(masks_path)\n",
    "\n",
    "index = 8\n",
    "\n",
    "filepath = os.path.join(masks_path, filenames[index])\n",
    "mask = imread(filepath)\n",
    "mask = cv2.resize(mask, (32, 32))\n",
    "\n",
    "# mask = np.full((640, 640, 3), 255)\n",
    "print(mask_to_directions(mask))\n",
    "\n",
    "imshow_numpy(mask)"
   ]
  },
  {
   "cell_type": "code",
   "execution_count": 17,
   "metadata": {},
   "outputs": [
    {
     "data": {
      "text/plain": [
       "(6.515151515151516, 6.925925925925926)"
      ]
     },
     "execution_count": 17,
     "metadata": {},
     "output_type": "execute_result"
    }
   ],
   "source": [
    "215 / 33, 187 / 27"
   ]
  }
 ],
 "metadata": {
  "kernelspec": {
   "display_name": "venv_win",
   "language": "python",
   "name": "python3"
  },
  "language_info": {
   "codemirror_mode": {
    "name": "ipython",
    "version": 3
   },
   "file_extension": ".py",
   "mimetype": "text/x-python",
   "name": "python",
   "nbconvert_exporter": "python",
   "pygments_lexer": "ipython3",
   "version": "3.11.5"
  }
 },
 "nbformat": 4,
 "nbformat_minor": 2
}
